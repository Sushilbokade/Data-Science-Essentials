{
  "nbformat": 4,
  "nbformat_minor": 0,
  "metadata": {
    "kernelspec": {
      "display_name": "Python 3",
      "language": "python",
      "name": "python3"
    },
    "language_info": {
      "codemirror_mode": {
        "name": "ipython",
        "version": 3
      },
      "file_extension": ".py",
      "mimetype": "text/x-python",
      "name": "python",
      "nbconvert_exporter": "python",
      "pygments_lexer": "ipython3",
      "version": "3.7.6"
    },
    "colab": {
      "name": "Assignment Day-1.ipynb",
      "provenance": [],
      "collapsed_sections": [
        "Q50s7wonyq40",
        "dtPrWOx41Df9",
        "lMfC84-K1T1y",
        "e59XzaLD1a7u",
        "qIABeqVf1uka",
        "hYQylhdz1zEr",
        "3Zxf7K9x3PZS",
        "tZmDikgS3S4T"
      ],
      "include_colab_link": true
    }
  },
  "cells": [
    {
      "cell_type": "markdown",
      "metadata": {
        "id": "view-in-github",
        "colab_type": "text"
      },
      "source": [
        "<a href=\"https://colab.research.google.com/github/Sushilbokade/Data-Science-Essentials/blob/main/Assignment_Day_1.ipynb\" target=\"_parent\"><img src=\"https://colab.research.google.com/assets/colab-badge.svg\" alt=\"Open In Colab\"/></a>"
      ]
    },
    {
      "cell_type": "markdown",
      "metadata": {
        "id": "FQ0NhCVcyA5Y"
      },
      "source": [
        "# Assignment Day 1 | 6th November 2020\n",
        "--- "
      ]
    },
    {
      "cell_type": "markdown",
      "metadata": {
        "id": "Q50s7wonyq40"
      },
      "source": [
        "## Question 1:"
      ]
    },
    {
      "cell_type": "markdown",
      "metadata": {
        "id": "dtPrWOx41Df9"
      },
      "source": [
        "#### Given the following jumbled word, OBANWRI guess the correct English word.\n",
        "\n",
        "##### A. RANIBOW\n",
        "##### B. RAINBOW\n",
        "##### C. BOWRANI\n",
        "##### D. ROBWANI"
      ]
    },
    {
      "cell_type": "code",
      "metadata": {
        "id": "8kVVdsoiyjCH"
      },
      "source": [
        "# Answer: RAINBOW"
      ],
      "execution_count": 1,
      "outputs": []
    },
    {
      "cell_type": "markdown",
      "metadata": {
        "id": "lMfC84-K1T1y"
      },
      "source": [
        "## Question 2:"
      ]
    },
    {
      "cell_type": "markdown",
      "metadata": {
        "id": "e59XzaLD1a7u"
      },
      "source": [
        "#### Write a program which prints “LETS UPGRADE”. (Please note that you have to print in ALL CAPS as given)"
      ]
    },
    {
      "cell_type": "code",
      "metadata": {
        "id": "dL4FVjI11pcr",
        "outputId": "b50fb406-ae00-4caf-c6ad-0f816eff958a",
        "colab": {
          "base_uri": "https://localhost:8080/"
        }
      },
      "source": [
        "print('LETS UPGRADE')"
      ],
      "execution_count": 2,
      "outputs": [
        {
          "output_type": "stream",
          "text": [
            "LETS UPGRADE\n"
          ],
          "name": "stdout"
        }
      ]
    },
    {
      "cell_type": "markdown",
      "metadata": {
        "id": "qIABeqVf1uka"
      },
      "source": [
        "## Question 3:"
      ]
    },
    {
      "cell_type": "markdown",
      "metadata": {
        "id": "hYQylhdz1zEr"
      },
      "source": [
        "#### Write a program that takes cost price and selling price as input and displays whether the transaction is a Profit or a Loss or Neither.\n",
        "#### INPUT FORMAT\n",
        "#### The first line contains the cost price.\n",
        "#### The second line contains the selling price.\n",
        "#### OUTPUT FORMAT\n",
        "#### Print \"Profit\" if the transaction is a profit or \"Loss\" if it is a loss. If it is neither profit nor loss, print \"Neither\". (You must not have quotes in your output)"
      ]
    },
    {
      "cell_type": "code",
      "metadata": {
        "id": "o89cI7sq1tkH",
        "outputId": "c9a83097-e8d0-4c10-b9b9-733c7f3169b1",
        "colab": {
          "base_uri": "https://localhost:8080/"
        }
      },
      "source": [
        "cp = int(input())\n",
        "sp = int(input())\n",
        "if sp>cp:\n",
        "    print('Profit')\n",
        "elif cp>sp:\n",
        "    print('Loss')\n",
        "else:\n",
        "    print('Neither')"
      ],
      "execution_count": 3,
      "outputs": [
        {
          "output_type": "stream",
          "text": [
            "3\n",
            "4\n",
            "Profit\n"
          ],
          "name": "stdout"
        }
      ]
    },
    {
      "cell_type": "markdown",
      "metadata": {
        "id": "3Zxf7K9x3PZS"
      },
      "source": [
        "## Question 3:"
      ]
    },
    {
      "cell_type": "markdown",
      "metadata": {
        "id": "tZmDikgS3S4T"
      },
      "source": [
        "#### Write a program that takes an amount in Euros as input. You need to find its equivalent in Rupees and display it. Assume 1 Euro equals Rs. 80.\n",
        "#### Please note that you are expected to stick to the given input and output format as in sample test cases. Please don't add any extra lines such as 'Enter a number', etc.\n",
        "#### Your program should take only one number as input and display the output."
      ]
    },
    {
      "cell_type": "code",
      "metadata": {
        "id": "JYh-Dy743EkX",
        "outputId": "a3e3e486-2305-48f8-dda1-a2ea52d7d021",
        "colab": {
          "base_uri": "https://localhost:8080/"
        }
      },
      "source": [
        "Euroamt = int(input())\n",
        "Rsamt = 80 * Euroamt\n",
        "print(Rsamt)"
      ],
      "execution_count": 6,
      "outputs": [
        {
          "output_type": "stream",
          "text": [
            "100\n",
            "8000\n"
          ],
          "name": "stdout"
        }
      ]
    }
  ]
}